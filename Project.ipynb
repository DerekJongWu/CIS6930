{
 "cells": [
  {
   "cell_type": "code",
   "execution_count": 22,
   "metadata": {},
   "outputs": [],
   "source": [
    "import csv\n",
    "import numpy as np\n",
    "import math\n",
    "from collections import Counter\n",
    "\n",
    "matrix = np.loadtxt(open(\"C:/Users/Dimitris/Google Drive/University of Florida/Mobile Networking/Experiment 1/Given Files/outputwireless-logs-20120409.DHCP_ANON.csv\", \"rb\"), delimiter=\",\", skiprows=1, dtype=str)\n",
    "\n",
    "userMAC_APNAME = {} #Dictionary for counting the encounters of every AP\n",
    "TotalTime_APNAME = {} #Dictionary for counting the total connection time of every AP\n",
    "AvgTime_APNAME = {} #Dictionary for counting the average connection time of every AP\n",
    "\n",
    "for i in range(0, len(matrix)):\n",
    "    if matrix[i,2] in userMAC_APNAME: #Create a dictionay with the APNAMES as keys and the number of encounters as values\n",
    "        userMAC_APNAME[matrix[i,2]] = userMAC_APNAME[matrix[i,2]] + 1\n",
    "    else:\n",
    "        userMAC_APNAME[matrix[i,2]] = 1\n",
    "        \n",
    "for i in range(0, len(matrix)):\n",
    "    if matrix[i,2] in TotalTime_APNAME: #Create a dictionay with the APNAMES as keys and the total connection time as values\n",
    "        TotalTime_APNAME[matrix[i,2]] = TotalTime_APNAME[matrix[i,2]] + int(matrix[i,5]) - int(matrix[i,4])\n",
    "    else:\n",
    "        TotalTime_APNAME[matrix[i,2]] = int(matrix[i,5]) - int(matrix[i,4])\n",
    "        \n",
    "for key1,val1 in TotalTime_APNAME.items():\n",
    "    for key2,val2 in userMAC_APNAME.items(): #Create a dictionay with the APNAMES as keys and the average connection time as values\n",
    "        if key1 == key2:\n",
    "            AvgTime_APNAME[key1] = int(round(val1/val2)) #Round it to the nearest integer\n",
    "            break\n",
    "\n",
    "sorted_by_value1 = sorted(userMAC_APNAME.items(), key=lambda kv: kv[1], reverse=True)\n",
    "#sorted_by_value2 = sorted(TotalTime_APNAME.items(), key=lambda kv: kv[1], reverse=True)\n",
    "#sorted_by_value3 = sorted(AvgTime_APNAME.items(), key=lambda kv: kv[1], reverse=True)\n",
    "        \n",
    "print(sorted_by_value1)\n",
    "#print(sorted_by_value2)\n",
    "#print(sorted_by_value3)\n",
    "\n",
    "with open('C:/Users/Dimitris/Google Drive/University of Florida/Mobile Networking/Experiment 1/Given Files/encounters.csv', 'w') as csv_file:\n",
    "    writer = csv.writer(csv_file)\n",
    "    for key, value in userMAC_APNAME.items():\n",
    "       writer.writerow([key, value])\n",
    "    \n",
    "with open('C:/Users/Dimitris/Google Drive/University of Florida/Mobile Networking/Experiment 1/Given Files/totaltime.csv', 'w') as csv_file:\n",
    "    writer = csv.writer(csv_file)\n",
    "    for key, value in TotalTime_APNAME.items():\n",
    "       writer.writerow([key, value])\n",
    "\n",
    "with open('C:/Users/Dimitris/Google Drive/University of Florida/Mobile Networking/Experiment 1/Given Files/avgtime.csv', 'w') as csv_file:\n",
    "    writer = csv.writer(csv_file)\n",
    "    for key, value in AvgTime_APNAME.items():\n",
    "       writer.writerow([key, value])"
   ]
  },
  {
   "cell_type": "code",
   "execution_count": null,
   "metadata": {},
   "outputs": [],
   "source": []
  }
 ],
 "metadata": {
  "kernelspec": {
   "display_name": "Python 3",
   "language": "python",
   "name": "python3"
  },
  "language_info": {
   "codemirror_mode": {
    "name": "ipython",
    "version": 3
   },
   "file_extension": ".py",
   "mimetype": "text/x-python",
   "name": "python",
   "nbconvert_exporter": "python",
   "pygments_lexer": "ipython3",
   "version": "3.6.8"
  }
 },
 "nbformat": 4,
 "nbformat_minor": 2
}
