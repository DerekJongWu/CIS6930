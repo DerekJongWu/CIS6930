{
 "cells": [
  {
   "cell_type": "code",
   "execution_count": 13,
   "metadata": {},
   "outputs": [
    {
     "name": "stdout",
     "output_type": "stream",
     "text": [
      "23\n"
     ]
    },
    {
     "data": {
      "image/png": "[encoded data removed]",
      "text/plain": [
       "<Figure size 432x288 with 1 Axes>"
      ]
     },
     "metadata": {
      "needs_background": "light"
     },
     "output_type": "display_data"
    }
   ],
   "source": [
    "import csv\n",
    "import datetime\n",
    "import math\n",
    "import dateutil.relativedelta\n",
    "import matplotlib.pyplot as plt \n",
    "\n",
    "with open('outputwireless-logs-20120407.DHCP_ANON.csv') as csvfile: \n",
    "    readCSV = csv.reader(csvfile, delimiter = ',')\n",
    "    times = []\n",
    "    for row in readCSV:\n",
    "        time = row[4]\n",
    "        times.append(time)\n",
    "del times[0]\n",
    "late_u = 1333843425\n",
    "early_u = 1333757183\n",
    "\n",
    "dt_late = datetime.datetime.fromtimestamp(late_u) #convert from unix timestamp to datetime \n",
    "dt_early = datetime.datetime.fromtimestamp(early_u) #convert from unix timestamp to datetime\n",
    "\n",
    "rd = dateutil.relativedelta.relativedelta (dt_late, dt_early) #compute the difference between the two datetimes \n",
    "\n",
    "print(rd.hours)\n",
    "\n",
    "tot_time = 1440 #Total number of mins\n",
    "n = 15 #Number of mins bin \n",
    "\n",
    "n_bins = tot_time/n #compute the number of bins\n",
    "plt.figure()\n",
    "y = []\n",
    "\n",
    "x = []\n",
    "\n",
    "for i in range(96):\n",
    "    y.append(0)\n",
    "    \n",
    "for i in range(96):\n",
    "    x.append(i)\n",
    "\n",
    "counter = 0 \n",
    "for i in times: \n",
    "    dt_comp = datetime.datetime.fromtimestamp(int(i))\n",
    "    diff = dateutil.relativedelta.relativedelta (dt_comp, dt_early)\n",
    "    total_diff = 0\n",
    "    total_diff = total_diff + diff.hours*60 + diff.minutes\n",
    "    bin_num = math.floor(total_diff/n)\n",
    "    y[bin_num] = y[bin_num] + 1\n",
    "    \n",
    "plt.scatter(x,y) \n",
    "plt.show()\n",
    "    \n",
    "    \n",
    "\n"
   ]
  },
  {
   "cell_type": "code",
   "execution_count": null,
   "metadata": {},
   "outputs": [],
   "source": []
  }
 ],
 "metadata": {
  "kernelspec": {
   "display_name": "Python 3",
   "language": "python",
   "name": "python3"
  },
  "language_info": {
   "codemirror_mode": {
    "name": "ipython",
    "version": 3
   },
   "file_extension": ".py",
   "mimetype": "text/x-python",
   "name": "python",
   "nbconvert_exporter": "python",
   "pygments_lexer": "ipython3",
   "version": "3.6.8"
  }
 },
 "nbformat": 4,
 "nbformat_minor": 2
}
